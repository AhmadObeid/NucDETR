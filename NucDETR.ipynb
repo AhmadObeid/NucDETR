{
 "cells": [
  {
   "cell_type": "code",
   "execution_count": 1,
   "id": "2917e9e2-3f06-416a-b30e-2948cdb22bd6",
   "metadata": {},
   "outputs": [
    {
     "data": {
      "text/plain": [
       "['../../FromPublic/detr',\n",
       " '/home/nofelvsap/PhD-Ahmad Obeid/ColorectalCancer/NucDETR/PythonScripts',\n",
       " '/home/nofelvsap/anaconda3/envs/nucdetr/lib/python310.zip',\n",
       " '/home/nofelvsap/anaconda3/envs/nucdetr/lib/python3.10',\n",
       " '/home/nofelvsap/anaconda3/envs/nucdetr/lib/python3.10/lib-dynload',\n",
       " '',\n",
       " '/home/nofelvsap/anaconda3/envs/nucdetr/lib/python3.10/site-packages',\n",
       " '/home/nofelvsap/anaconda3/envs/nucdetr/lib/python3.10/site-packages/PyQt5_sip-12.11.0-py3.10-linux-x86_64.egg',\n",
       " '/home/nofelvsap/anaconda3/envs/nucdetr/lib/python3.10/site-packages/PyYAML-6.0-py3.10-linux-x86_64.egg',\n",
       " '/home/nofelvsap/anaconda3/envs/nucdetr/lib/python3.10/site-packages/IPython/extensions',\n",
       " '/home/nofelvsap/.ipython']"
      ]
     },
     "execution_count": 1,
     "metadata": {},
     "output_type": "execute_result"
    }
   ],
   "source": [
    "import sys\n",
    "sys.path.insert(0,'../../FromPublic/detr')\n",
    "sys.path"
   ]
  },
  {
   "cell_type": "code",
   "execution_count": 2,
   "id": "4f0085ab-ad5a-4ab8-b56e-b2c8f9fb0bea",
   "metadata": {
    "tags": []
   },
   "outputs": [],
   "source": [
    "from models import backbone\n",
    "from models.backbone import Backbone\n",
    "from util.misc import NestedTensor, interpolate, nested_tensor_from_tensor_list\n",
    "from models import build_model\n",
    "from datasets import build_dataset\n",
    "import util.misc as utils\n",
    "from ipywidgets import FloatProgress"
   ]
  },
  {
   "cell_type": "code",
   "execution_count": 3,
   "id": "479c0014-339e-46c4-a590-e7e35f3b5b24",
   "metadata": {
    "jp-MarkdownHeadingCollapsed": true,
    "tags": []
   },
   "outputs": [],
   "source": [
    "import pdb\n",
    "from PIL import Image, ImageDraw\n",
    "import requests\n",
    "import io\n",
    "import math\n",
    "import matplotlib.pyplot as plt\n",
    "# %config InlineBackend.figure_format = 'retina'\n",
    "\n",
    "import torch\n",
    "import torchvision\n",
    "from torch import nn, optim\n",
    "from torchvision.models import resnet50, resnet101, resnet18, resnet34\n",
    "import torchvision.transforms as T\n",
    "from torchvision import datasets\n",
    "from torchvision.io import read_image\n",
    "from torch.utils.data import Dataset, DataLoader\n",
    "from torchvision.transforms import ToTensor\n",
    "\n",
    "import numpy\n",
    "# torch.set_grad_enabled(False);\n",
    "\n",
    "from torchvision import models\n",
    "\n",
    "import scipy.io as sio\n",
    "import os\n",
    "\n",
    "import cv2\n",
    "\n",
    "from PIL import Image\n",
    "import argparse\n",
    "import time"
   ]
  },
  {
   "cell_type": "markdown",
   "id": "2684d5ad-3bbb-48b5-9179-871786c44625",
   "metadata": {
    "tags": []
   },
   "source": [
    "## Cell ***"
   ]
  },
  {
   "cell_type": "code",
   "execution_count": 4,
   "id": "6c4dd7bb-3f48-4672-a427-6105818f141f",
   "metadata": {},
   "outputs": [
    {
     "name": "stderr",
     "output_type": "stream",
     "text": [
      "Using cache found in /home/nofelvsap/.cache/torch/hub/facebookresearch_detr_main\n",
      "/home/nofelvsap/anaconda3/envs/nucdetr/lib/python3.10/site-packages/torchvision/models/_utils.py:208: UserWarning: The parameter 'pretrained' is deprecated since 0.13 and will be removed in 0.15, please use 'weights' instead.\n",
      "  warnings.warn(\n",
      "/home/nofelvsap/anaconda3/envs/nucdetr/lib/python3.10/site-packages/torchvision/models/_utils.py:223: UserWarning: Arguments other than a weight enum or `None` for 'weights' are deprecated since 0.13 and will be removed in 0.15. The current behavior is equivalent to passing `weights=ResNet101_Weights.IMAGENET1K_V1`. You can also use `weights=ResNet101_Weights.DEFAULT` to get the most up-to-date weights.\n",
      "  warnings.warn(msg)\n",
      "Using cache found in /home/nofelvsap/.cache/torch/hub/facebookresearch_detr_main\n"
     ]
    }
   ],
   "source": [
    "def get_pretrained_detr():\n",
    "  model_original = torch.hub.load('facebookresearch/detr', 'detr_resnet101', pretrained=True)\n",
    "  model_original.eval();\n",
    "  model = torch.hub.load('facebookresearch/detr', 'detr_resnet101', pretrained=False, num_classes=2)\n",
    "  model.eval();\n",
    "\n",
    "  # change the name of class_embedd to be able to import the weights with different size of last layer\n",
    "  dic = model_original.state_dict()\n",
    "  dic['class_embed.new_weight'] = dic['class_embed.weight']\n",
    "  dic['class_embed.new_bias'] = dic['class_embed.bias']\n",
    "  del dic['class_embed.weight'], dic['class_embed.bias']\n",
    "  model.load_state_dict(dic, strict=False)\n",
    "  return model\n",
    "model = get_pretrained_detr()\n",
    "\n"
   ]
  },
  {
   "cell_type": "markdown",
   "id": "c51f533d-2313-430b-9703-8ef81d20aaf5",
   "metadata": {
    "tags": []
   },
   "source": [
    "## Backbone: Getting the data"
   ]
  },
  {
   "cell_type": "code",
   "execution_count": 5,
   "id": "a7912562-b7ad-482e-aa63-c52b8f5eeb8d",
   "metadata": {},
   "outputs": [
    {
     "name": "stdout",
     "output_type": "stream",
     "text": [
      "['Negative', 'Positive']\n"
     ]
    }
   ],
   "source": [
    "# data_dir_tr = '/content/drive/My Drive/Colab/CRC/datasets/consep/tr'\n",
    "# data_dir_ts = '/content/drive/My Drive/Colab/CRC/datasets/consep/ts'\n",
    "data_dir_tr = '../../Datasets/AllTogether/train'\n",
    "data_dir_ts = '../../Datasets/AllTogether/val'\n",
    "def load_split_train_test(datadir_tr,datadir_ts,batch_size):\n",
    "    train_transforms = T.Compose([T.ToTensor(),\n",
    "                                  T.Resize(300)])\n",
    "    test_transforms = T.Compose([T.ToTensor(),\n",
    "                                 T.Resize(300)])\n",
    "    train_data = datasets.ImageFolder(datadir_tr,       \n",
    "                    transform=train_transforms)\n",
    "    test_data = datasets.ImageFolder(datadir_ts,\n",
    "                    transform=test_transforms)\n",
    "    # num_train = len(train_data)\n",
    "    # indices = list(range(num_train))\n",
    "    # split = int(numpy.floor(valid_size * num_train))\n",
    "    # numpy.random.shuffle(indices)\n",
    "    # from torch.utils.data.sampler import SubsetRandomSampler\n",
    "    # train_idx, test_idx = indices[split:], indices[:split]\n",
    "    # train_sampler = SubsetRandomSampler(train_idx)\n",
    "    # test_sampler = SubsetRandomSampler(test_idx)\n",
    "    trainloader = torch.utils.data.DataLoader(train_data,batch_size=batch_size,shuffle=True)\n",
    "    testloader = torch.utils.data.DataLoader(test_data,batch_size=batch_size)\n",
    "    return trainloader, testloader\n",
    "batch_size = 32\n",
    "trainloader, testloader = load_split_train_test(data_dir_tr,data_dir_ts,batch_size)\n",
    "print(trainloader.dataset.classes)"
   ]
  },
  {
   "cell_type": "markdown",
   "id": "88545992-5ca5-489a-a56c-56617ebac09e",
   "metadata": {},
   "source": [
    "## Backbone: making model"
   ]
  },
  {
   "cell_type": "code",
   "execution_count": null,
   "id": "2cad9559-3db5-43a4-8241-84a6a5c91580",
   "metadata": {},
   "outputs": [],
   "source": [
    "device = torch.device(\"cuda:0\" if torch.cuda.is_available() \n",
    "                                  else \"cpu\")\n",
    "torchMdl = resnet101(pretrained=True,progress=True)\n",
    "torchMdl.fc = nn.Sequential(nn.Linear(2048, 512),\n",
    "                                 nn.ReLU(),\n",
    "                                 nn.Dropout(0.2),\n",
    "                                 nn.Linear(512, 2))\n",
    "                                  #nn.Sigmoid() , nn.LogSoftmax(dim=1) nn.LogSoftmax(dim=1)\n",
    "                                 \n",
    "# for freezing if needed\n",
    "# for n,p in torchMdl.named_parameters():\n",
    "#   if \"fc\" in n or \"layer4\" in n:\n",
    "#     p.requires_grad = True\n",
    "#   else:\n",
    "#     p.requires_grad = False\n",
    "# end of freezing \n",
    "\n",
    "criterion = nn.CrossEntropyLoss() #\n",
    "optimizer = optim.SGD(torchMdl.parameters(), lr=0.01, momentum=0.9)\n",
    "torchMdl.to(device)"
   ]
  },
  {
   "cell_type": "code",
   "execution_count": null,
   "id": "825f8a2f-1848-4261-8aa7-a51e0254ea60",
   "metadata": {},
   "outputs": [],
   "source": [
    "torchMdl.load_state_dict(torch.load('../Weights/ResnetAllCls1.pt'))\n",
    "torchMdl.eval()\n",
    "# acc = 0\n",
    "# with torch.no_grad():\n",
    "#   for inputs, labels in testloader:\n",
    "#     inputs, labels = inputs.to(device),labels.to(device)\n",
    "#     logps = torchMdl.forward(inputs)    \n",
    "#     ps = torch.exp(logps)\n",
    "#     top_p, top_class = ps.topk(1, dim=1)\n",
    "#     equals = top_class == labels.view(*top_class.shape)\n",
    "#     acc += torch.mean(equals.type(torch.FloatTensor)).item()\n",
    "    \n",
    "# print(acc/len(testloader))"
   ]
  },
  {
   "cell_type": "code",
   "execution_count": 7,
   "id": "55cccb80-6492-4a1f-bcab-8855e6bf1a3f",
   "metadata": {},
   "outputs": [],
   "source": [
    "def transfer_weights(backbone,full_transformer):\n",
    "  dic = backbone.state_dict() #take the weights from the trained backbone\n",
    "  for key in full_transformer.state_dict().keys(): #loop over the detr model\n",
    "    if 'backbone.0.body.' in key:\n",
    "      dic['backbone.0.body.'+key[16:]] = dic[key[16:]] #change the name in the trained backbone to include the necessary addition\n",
    "      del dic[key[16:]] #get rid of old names from the trained backbone\n",
    "  full_transformer.load_state_dict(dic, strict=False)\n",
    "  return full_transformer\n",
    "model = transfer_weights(torchMdl,model)\n",
    "\n",
    "# there are 500 weights in transformer backbone, and 628 in torch model, therefore all needed weights exist."
   ]
  },
  {
   "cell_type": "markdown",
   "id": "c5229fc5-9e2a-469f-a9c0-1d41ec04d59d",
   "metadata": {},
   "source": [
    "## Backbone: Training Loop"
   ]
  },
  {
   "cell_type": "code",
   "execution_count": null,
   "id": "b3de70bc-48ce-4863-85fe-474db23c5ca9",
   "metadata": {},
   "outputs": [],
   "source": [
    "epochs = 5\n",
    "# steps = 0\n",
    "running_loss = 0\n",
    "print_every = 1\n",
    "train_losses, test_losses = [], []\n",
    "\n",
    "time_start = time.time()\n",
    "for epoch in range(epochs):\n",
    "    for idx, (inputs, labels) in enumerate(trainloader):\n",
    "      # steps += 1\n",
    "      inputs, labels = inputs.to(device), labels.to(device)\n",
    "      optimizer.zero_grad()\n",
    "      logps = torchMdl.forward(inputs)\n",
    "      # ps = torch.exp(logps.detach().cpu())\n",
    "      # _, top_class = ps.topk(1, dim=1)\n",
    "      # print(top_class)\n",
    "      # print(labels)\n",
    "      loss = criterion(logps, labels)\n",
    "      loss.backward()\n",
    "      optimizer.step()\n",
    "      running_loss += loss.item()\n",
    "      if idx%500==0:print('%d iteration is done'%(idx))\n",
    "      \n",
    "      \n",
    "    test_loss = 0\n",
    "    accuracy = 0\n",
    "    torchMdl.eval()\n",
    "    with torch.no_grad():\n",
    "        for inputs, labels in testloader:\n",
    "            inputs, labels = inputs.to(device),labels.to(device)\n",
    "            logps = torchMdl.forward(inputs)\n",
    "            batch_loss = criterion(logps, labels)\n",
    "            test_loss += batch_loss.item()\n",
    "            \n",
    "            ps = torch.exp(logps)\n",
    "            top_p, top_class = ps.topk(1, dim=1)\n",
    "            \n",
    "            equals = top_class == labels.view(*top_class.shape)\n",
    "            accuracy += torch.mean(equals.type(torch.FloatTensor)).item()\n",
    "    train_losses.append(running_loss/len(trainloader))\n",
    "    test_losses.append(test_loss/len(testloader))                    \n",
    "    print(f\"Epoch {epoch+1}/{epochs}.. \"\n",
    "          f\"Train loss: {running_loss/print_every:.3f}.. \"\n",
    "          f\"Test loss: {test_loss/len(testloader):.3f}.. \"\n",
    "          f\"Test accuracy: {accuracy/len(testloader):.3f}\")\n",
    "    running_loss = 0\n",
    "    torchMdl.train()\n",
    "\n",
    "time_tot = time.time()-time_start"
   ]
  },
  {
   "cell_type": "code",
   "execution_count": 47,
   "id": "09fe59a1-0a96-409e-bf81-164ecf50f5c1",
   "metadata": {},
   "outputs": [],
   "source": [
    "nm = 'ResnetAllCls1.pt'\n",
    "torch.save(torchMdl.state_dict(), '../Weights/'+nm)\n",
    "writeIt = ['\\n', nm, 'was obtained with pretrained resnet101, with frozen weights except for fully-connected and 1 previous layer',\n",
    "           'with [2048 512] [512 2] as final layers, logsoftmax activation at the final layer',\n",
    "           'with nn.CrossEntropyLoss() and SGD() and a lr of 0.01, mom of 0.9',\n",
    "           'batch size is {0}'.format(batch_size),          \n",
    "           '{0} epochs excution time {1} using 1 GPU.'.format(epochs,time_tot/60),\n",
    "           'last reported test accuracy is {0}'.format(accuracy/len(testloader)),\n",
    "           'patch_size is 300x300, unlike the ones above that were 512x512',\n",
    "          'Data involves all datasets.']\n",
    "with open('../Weights/readme.txt', 'a') as f:\n",
    "    f.writelines('\\n'.join(writeIt))"
   ]
  },
  {
   "cell_type": "markdown",
   "id": "95afbfed-4b8c-4237-a0e2-1815cd11b9dc",
   "metadata": {},
   "source": [
    "## Step 0: get model and criterion"
   ]
  },
  {
   "cell_type": "code",
   "execution_count": 8,
   "id": "de8fa077-a1b2-41d4-bf14-63b339970475",
   "metadata": {},
   "outputs": [],
   "source": [
    "def base_prepare(model=None,from_cell=True,\n",
    "                 frozen=1,device=None,DetectionFile='DetectionAll'):\n",
    "  parser = argparse.ArgumentParser(description='Detr finetuning',\n",
    "                                    formatter_class=argparse.ArgumentDefaultsHelpFormatter)\n",
    "  parser.add_argument('--aux_loss',default = True,type=bool)\n",
    "  args, _ = parser.parse_known_args()\n",
    "  args.backbone='resnet101'\n",
    "  args.batch_size=8\n",
    "  args.bbox_loss_coef=5\n",
    "  args.clip_max_norm=0.1\n",
    "  args.coco_panoptic_path=None\n",
    "  args.coco_path='../../Datasets/'+DetectionFile\n",
    "  args.dataset_file='coco'\n",
    "  args.dec_layers=6\n",
    "  args.device='cuda'\n",
    "  args.dice_loss_coef=1\n",
    "  args.dilation=False\n",
    "  args.dim_feedforward=2048\n",
    "  args.dist_url='env://'\n",
    "  args.dropout=0.1\n",
    "  args.enc_layers=6\n",
    "  args.eos_coef=0.1\n",
    "  args.epochs=300\n",
    "  args.eval=False\n",
    "  args.frozen_weights=None\n",
    "  args.giou_loss_coef=2\n",
    "  args.hidden_dim=256\n",
    "  args.lr=0.0001\n",
    "  args.lr_backbone=1e-05\n",
    "  args.lr_drop=200\n",
    "  args.mask_loss_coef=1\n",
    "  args.masks=False\n",
    "  args.nheads=8\n",
    "  if from_cell:\n",
    "    args.num_queries=100 #setting number of queries to 10 only. If not used, then we can import the model as cell *** above\n",
    "  else:\n",
    "    args.num_queries=10\n",
    "    print('Using custom query number\\n')\n",
    "  args.num_workers=2\n",
    "  args.output_dir=''\n",
    "  args.position_embedding='sine'\n",
    "  args.pre_norm=False\n",
    "  args.remove_difficult=False\n",
    "  args.resume=''\n",
    "  args.seed=42\n",
    "  args.set_cost_bbox=6\n",
    "  args.set_cost_class=2\n",
    "  args.set_cost_giou=2\n",
    "  args.start_epoch=0\n",
    "  args.weight_decay=0.0001\n",
    "  args.world_size=1\n",
    "\n",
    "  # getting backbone weights, and transformer weights\n",
    "  if from_cell:\n",
    "    _, criterion, _ = build_model(args) \n",
    "    assert model != None\n",
    "  else:\n",
    "    model, criterion, _ = build_model(args)\n",
    "\n",
    "  # behind the scenes changed number of output nuerons to 1. Inside detr.py, \n",
    "  # This is needed if model is to be reutrened from the above line, incase \n",
    "  # args.num_classes above is set to a value other than 100. \n",
    "  model = transfer_weights(torchMdl,model) #model either comes from the above, or from cell ***\n",
    "  model = model.to(device)\n",
    "\n",
    "\n",
    "  # checkpoint = torch.hub.load_state_dict_from_url(\n",
    "  #             url=\"https://dl.fbaipublicfiles.com/detr/detr-r101-2c7b67e5.pth\", map_location=\"cpu\", check_hash=True\n",
    "  #         )\n",
    "  # model.load_state_dict(checkpoint[\"model\"],strict=False)\n",
    "\n",
    "  # The above is incomplete, but is needed (and should be completed) if args.num_classses is changed from 100.\n",
    "  # It goes with the above. The completion consists of popping out the query embedding, and the detection head\n",
    "  # from the state_dict. These must be set to trainable below. The block below only sets the detection heads\n",
    "  # to trainable, and not the query embedding. \n",
    "\n",
    "  # Freezing all except final detection heads\n",
    "  \n",
    "  for n,p in model.named_parameters():\n",
    "    if frozen==1:\n",
    "      if \"bbox_embed\" in n or \"class_embed\" in n or \"query\" in n:\n",
    "        p.requires_grad = True\n",
    "        # print(n+' is trainable')\n",
    "      else:\n",
    "        p.requires_grad = False\n",
    "    elif frozen==2:\n",
    "      if \"bbox_embed\" in n or \"class_embed\" in n or \"query\" in n or \"backbone\" in n:\n",
    "        p.requires_grad = True\n",
    "        # print(n+' is trainable')\n",
    "      else:\n",
    "        p.requires_grad = False\n",
    "    \n",
    "  return model, criterion, args"
   ]
  },
  {
   "cell_type": "markdown",
   "id": "6e6030d9-2d63-4e95-9175-4d399ddbd4df",
   "metadata": {},
   "source": [
    "## Step 1: Main Loop, data_loader, and optimizer"
   ]
  },
  {
   "cell_type": "code",
   "execution_count": null,
   "id": "fac64879-70d3-45a1-9904-bb5c183bda62",
   "metadata": {},
   "outputs": [],
   "source": [
    "list(range(8,880,8))"
   ]
  },
  {
   "cell_type": "code",
   "execution_count": 55,
   "id": "586af3e0-d420-4cd8-99e3-5f995ffb13ae",
   "metadata": {},
   "outputs": [],
   "source": [
    "# misc functions\n",
    "\n",
    "def get_stats2(pred_bb,GT_bb,r = 80,sz=800,raw=False):\n",
    "  pred_bb = pred_bb.detach().cpu().numpy()\n",
    "  if not raw:\n",
    "    GT_bb = GT_bb.detach().cpu().numpy() * numpy.array([800, 800, 800, 800])\n",
    "  \n",
    "  TP, TN, FP, FN, N, P = 0,0,0,0, 0, 0\n",
    "  total_num = (sz/r) * (sz/r)\n",
    "  for row in range(r,sz+r,r):\n",
    "    for col in range(r,sz+r,r):\n",
    "      arr_GT = numpy.prod(numpy.array([col-r<GT_bb[:,0],\n",
    "                          GT_bb[:,0]<=col,\n",
    "                          GT_bb[:,1]<=row,\n",
    "                          GT_bb[:,1]>row-r]),0)\n",
    "      \n",
    "      arr_pred = numpy.prod(numpy.array([col-r<pred_bb[:,0],\n",
    "                          pred_bb[:,0]<=col,\n",
    "                          pred_bb[:,1]<=row,\n",
    "                          pred_bb[:,1]>row-r]),0)\n",
    "           \n",
    "      if sum(arr_GT) == 0:\n",
    "        N += 1\n",
    "        if sum(arr_pred) == 0:\n",
    "          TN += 1 \n",
    "        else:\n",
    "          FP += 1\n",
    "      else:\n",
    "        P += 1\n",
    "        if sum(arr_pred) == 0:\n",
    "          FN += 1\n",
    "        else:\n",
    "          TP += 1\n",
    "  return TP, TN, FP, FN, P, N\n",
    "\n",
    "def get_stats(pred_bb,GT_bb,threshold = 6):\n",
    "  \n",
    "  pred_bb = pred_bb.detach().cpu().numpy()\n",
    "  GT_bb = GT_bb.detach().cpu().numpy() * numpy.array([800, 800, 800, 800])\n",
    "  dist_mat = dist(pred_bb[:,:2],GT_bb[:,:2])\n",
    "  \n",
    "  a, b = dist_mat.shape\n",
    "  TP, FP, FN = 0, 0, 0\n",
    "  min_pred = numpy.min(dist_mat,1)\n",
    "  min_gt = numpy.min(dist_mat,0)\n",
    "  TP = sum(min_pred<threshold)\n",
    "  FP = a - TP\n",
    "  FN = sum(min_gt>threshold)\n",
    "    \n",
    "  return TP/a, FP/a, FN/b #TN\n",
    "\n",
    "def reduce_bb(wanted_bb,choice='dist',th=50):\n",
    "  \n",
    "  boxs = wanted_bb.cpu().detach().numpy() * numpy.array([800, 800, 800, 800])\n",
    "  clustering = clst(n_clusters=None,distance_threshold=th).fit_predict(boxs[:,:2])\n",
    "  centroids = []\n",
    "  for cluster in numpy.unique(clustering):\n",
    "    clustering_idx = numpy.where(clustering==cluster)[0]\n",
    "    centroids += [sum(boxs[clustering_idx],0)/len(clustering_idx)] # plus ignored average width and height info\n",
    "  \n",
    "  return torch.Tensor(centroids)\n",
    "\n",
    "def get_drw_from_tnsr(x,black_bg=False):\n",
    "  if not black_bg:\n",
    "    for i in range(3):\n",
    "      x[:,:,i] -= min(x[:,:,i].flatten())\n",
    "      x[:,:,i] /= max(x[:,:,i].flatten())\n",
    "    x = (x*255).round().astype(numpy.uint8)\n",
    "  else:\n",
    "    x = numpy.zeros(x.shape,dtype=numpy.uint8)\n",
    "  \n",
    "  im = Image.fromarray(x)\n",
    "  im2 = im.copy()\n",
    "  drw = ImageDraw.Draw(im2)\n",
    "  return drw, im2\n",
    "\n",
    "def draw_bb(boxs,drw,im2,choice='rect',raw=False,outline='black',dot_size=7,im_size=800):  \n",
    "  for box in boxs:\n",
    "    if not raw:\n",
    "      box = box.cpu() * torch.Tensor([im_size, im_size, im_size, im_size])\n",
    "    x, y, w, h = box\n",
    "    x0, x1 = x-w//2, x+w//2\n",
    "    y0, y1 = y-h//2, y+h//2\n",
    "    if choice == 'rect':\n",
    "      drw.rectangle([x0, y0, x1, y1],outline=outline)\n",
    "    elif choice == 'point':\n",
    "      # drw.rectangle([x-dot_size, y-dot_size, x+dot_size, y+dot_size],outline=outline,fill=outline)\n",
    "      drw.ellipse([x-dot_size, y-dot_size, x+dot_size, y+dot_size],outline=outline,fill=outline)\n",
    "    elif choice == 'cross':\n",
    "      drw.line([(x-1.6*dot_size, y-1.6*dot_size),(x+1.6*dot_size, y+1.6*dot_size)], fill=outline,width=5)\n",
    "      drw.line([(x-1.6*dot_size, y+1.6*dot_size),(x+1.6*dot_size, y-1.6*dot_size)], fill=outline,width=5)\n",
    "    \n",
    "  return drw\n",
    "\n",
    "def draw_bb_crc(boxs,drw,im2,choice='rect',raw=False,outline='black',dot_size=3,im_size=800):  \n",
    "  for box in boxs:\n",
    "    if not raw:\n",
    "      box = box.cpu() * torch.Tensor([im_size, im_size])\n",
    "    x0, y0 = box  \n",
    "    drw.rectangle([x0-dot_size, y0-dot_size, x0+dot_size, y0+dot_size],outline=outline,fill=outline)\n",
    "  return drw\n",
    "\n",
    "def IoU(bb1,bb2):\n",
    "  x1a, y1a, x2a, y2a = bb1\n",
    "  x1b, y1b, x2b, y2b = bb2\n",
    "  xA = max(x1a,x1b)\n",
    "  yA = max(y1a,y1b)\n",
    "  xB = max(x2a,x2b)\n",
    "  yB = max(y2a,y2b)\n",
    "\n",
    "  interArea = max(0, xB - xA + 1) * max(0, yB - yA + 1)\n",
    "  boxAArea = (x2a - x1a + 1) * (y2a - y1a + 1)\n",
    "  boxBArea = (x2b - x1b + 1) * (y2b - y1b + 1)\n",
    "  iou = interArea / float(boxAArea + boxBArea - interArea)\n",
    "  return iou\n",
    "\n",
    "def cls_acc(pred,gt):\n",
    "  return float(sum(cls_acc==gt))/float(len(gt))\n"
   ]
  },
  {
   "cell_type": "code",
   "execution_count": 21,
   "id": "2cc035d8-e742-47bc-890e-b52159121139",
   "metadata": {},
   "outputs": [
    {
     "name": "stderr",
     "output_type": "stream",
     "text": [
      "/home/nofelvsap/anaconda3/envs/nucdetr/lib/python3.10/site-packages/torchvision/models/_utils.py:208: UserWarning: The parameter 'pretrained' is deprecated since 0.13 and will be removed in 0.15, please use 'weights' instead.\n",
      "  warnings.warn(\n",
      "/home/nofelvsap/anaconda3/envs/nucdetr/lib/python3.10/site-packages/torchvision/models/_utils.py:223: UserWarning: Arguments other than a weight enum or `None` for 'weights' are deprecated since 0.13 and will be removed in 0.15. The current behavior is equivalent to passing `weights=ResNet101_Weights.IMAGENET1K_V1`. You can also use `weights=ResNet101_Weights.DEFAULT` to get the most up-to-date weights.\n",
      "  warnings.warn(msg)\n"
     ]
    },
    {
     "name": "stdout",
     "output_type": "stream",
     "text": [
      "loading annotations into memory...\n",
      "Done (t=0.29s)\n",
      "creating index...\n",
      "index created!\n",
      "loading annotations into memory...\n",
      "Done (t=0.07s)\n",
      "creating index...\n",
      "index created!\n"
     ]
    }
   ],
   "source": [
    "DetectionFile = 'consep/ForDetection'\n",
    "_, _, args = base_prepare(model,from_cell=True,device=device,DetectionFile=DetectionFile)\n",
    "dataset_train = build_dataset(image_set='train', args=args)\n",
    "dataset_val = build_dataset(image_set='val', args=args)\n",
    "sampler_train = torch.utils.data.RandomSampler(dataset_train)\n",
    "sampler_val = torch.utils.data.SequentialSampler(dataset_val)\n",
    "batch_sampler_train = torch.utils.data.BatchSampler(\n",
    "sampler_train, args.batch_size, drop_last=True)\n",
    "\n",
    "data_loader_train = DataLoader(dataset_train, batch_sampler=batch_sampler_train,\n",
    "                                  collate_fn=utils.collate_fn, num_workers=args.num_workers)\n",
    "data_loader_val = DataLoader(dataset_val, args.batch_size, sampler=sampler_val,\n",
    "                                drop_last=False, collate_fn=utils.collate_fn, num_workers=args.num_workers)"
   ]
  },
  {
   "cell_type": "code",
   "execution_count": null,
   "id": "2804f1cd-0e16-4322-a8d7-cbc69d13cedb",
   "metadata": {},
   "outputs": [],
   "source": [
    "data_loader_train.dataset.coco.imgs"
   ]
  },
  {
   "cell_type": "code",
   "execution_count": null,
   "id": "87383acd-97d7-41dc-9e96-e90e975890d0",
   "metadata": {},
   "outputs": [],
   "source": [
    "fr = 0 #the freezing mode\n",
    "idx = 34 #the experimnetation index\n",
    "cont = True #to continue (True) or startover (False)\n",
    "\n",
    "model = get_pretrained_detr()\n",
    "model, criterion, args = base_prepare(model,from_cell=True,frozen=fr,device=device)\n",
    "# base\n",
    "optimizer = torch.optim.AdamW(model.parameters(), lr=args.lr,\n",
    "                                  weight_decay=args.weight_decay)\n",
    "lr_scheduler = torch.optim.lr_scheduler.StepLR(optimizer, args.lr_drop)\n",
    "# end of base\n",
    "\n",
    "if cont:\n",
    "  #for model\n",
    "  checkpoint = torch.load('../Weights/DetrMdl'+str(idx-1)+'.pth')\n",
    "  model.load_state_dict(checkpoint['state_dict'])\n",
    "  optimizer.load_state_dict(checkpoint['optimizer'])\n",
    "  criterion.load_state_dict(checkpoint['criterion'])\n",
    "  lr_scheduler.load_state_dict(checkpoint['lr'])\n",
    "  #for stats\n",
    "  # loaded = sio.loadmat('/content/drive/My Drive/Colab/CRC/weights/DetrMdl'+str(idx-1)+'.mat')\n",
    "  # old_loss_ce_avg_ts = list(loaded['loss_ce_avg_ts'].flatten())\n",
    "  # old_loss_bb_avg_ts = list(loaded['loss_bb_avg_ts'].flatten())\n",
    "  # old_loss_giou_avg_ts = list(loaded['loss_giou_avg_ts'].flatten())\n",
    "  # old_loss_ce_avg_tr = list(loaded['loss_ce_avg_tr'].flatten())\n",
    "  # old_loss_bb_avg_tr = list(loaded['loss_bb_avg_tr'].flatten())\n",
    "  # old_loss_giou_avg_tr = list(loaded['loss_giou_avg_tr'].flatten())\n",
    "  starting_epoch = checkpoint['epoch']\n",
    "  \n",
    "else:    \n",
    "  starting_epoch = 0\n",
    "  # old_loss_ce_avg_tr = []\n",
    "  # old_loss_bb_avg_tr = []\n",
    "  # old_loss_giou_avg_tr = []\n",
    "  # old_loss_ce_avg_ts = []\n",
    "  # old_loss_bb_avg_ts = []\n",
    "  # old_loss_giou_avg_ts = []\n",
    "\n",
    "loss_ce_avg_tr = []\n",
    "loss_bb_avg_tr = []\n",
    "loss_giou_avg_tr = []\n",
    "loss_ce_avg_ts = []\n",
    "loss_bb_avg_ts = []\n",
    "loss_giou_avg_ts = []\n",
    "epochs = starting_epoch + 400\n",
    "start = time.time()\n",
    "save_every = 200\n",
    "for epoch in range(starting_epoch,epochs):\n",
    "  loss_bb_tr = 0\n",
    "  loss_ce_tr = 0\n",
    "  loss_giou_tr = 0\n",
    "  loss_bb_ts = 0\n",
    "  loss_ce_ts = 0\n",
    "  loss_giou_ts = 0\n",
    "  model.train()\n",
    "  criterion.train()\n",
    "  metric_logger = utils.MetricLogger(delimiter=\"  \")\n",
    "  metric_logger.add_meter('lr', utils.SmoothedValue(window_size=1, fmt='{value:.6f}'))\n",
    "  metric_logger.add_meter('class_error', utils.SmoothedValue(window_size=1, fmt='{value:.2f}'))\n",
    "  header_tr = 'Epoch: [{}]'.format(epoch)\n",
    "  print_freq = args.batch_size*5\n",
    "\n",
    "  ## Training Block\n",
    "  for samples, targets in metric_logger.log_every(data_loader_train, print_freq, header_tr):\n",
    "    \n",
    "    samples = samples.to(device)\n",
    "    targets = [{k: v.to(device) for k, v in t.items()} for t in targets]\n",
    "\n",
    "    outputs = model(samples)\n",
    "    loss_dict = criterion(outputs, targets)\n",
    "    weight_dict = criterion.weight_dict\n",
    "    losses = sum(loss_dict[k] * weight_dict[k] for k in loss_dict.keys() if k in weight_dict)\n",
    "\n",
    "    # reduce losses over all GPUs for logging purposes\n",
    "    loss_dict_reduced = utils.reduce_dict(loss_dict)\n",
    "    loss_dict_reduced_unscaled = {f'{k}_unscaled': v\n",
    "                                  for k, v in loss_dict_reduced.items()}\n",
    "    loss_dict_reduced_scaled = {k: v * weight_dict[k]\n",
    "                                for k, v in loss_dict_reduced.items() if k in weight_dict}\n",
    "    losses_reduced_scaled = sum(loss_dict_reduced_scaled.values())\n",
    "\n",
    "    loss_value = losses_reduced_scaled.item()\n",
    "\n",
    "    if not math.isfinite(loss_value):\n",
    "        print(\"Loss is {}, stopping training\".format(loss_value))\n",
    "        print(loss_dict_reduced)\n",
    "        sys.exit(1)\n",
    "\n",
    "    optimizer.zero_grad()\n",
    "    losses.backward()    \n",
    "    torch.nn.utils.clip_grad_norm_(model.parameters(), args.clip_max_norm)\n",
    "    optimizer.step()\n",
    "    \n",
    "    metric_logger.update(loss=loss_value, **loss_dict_reduced_scaled)\n",
    "    metric_logger.update(class_error=loss_dict_reduced['class_error'])\n",
    "    metric_logger.update(lr=optimizer.param_groups[0][\"lr\"])\n",
    "    loss_ce_tr += loss_dict_reduced_scaled['loss_ce'].cpu().detach().numpy()\n",
    "    loss_bb_tr += loss_dict_reduced_scaled['loss_bbox'].cpu().detach().numpy()\n",
    "    loss_giou_tr += loss_dict_reduced_scaled['loss_giou'].cpu().detach().numpy()\n",
    "    \n",
    "    \n",
    "  ## End of Training Block\n",
    "  # gather the stats from all processes  \n",
    "  metric_logger.synchronize_between_processes()\n",
    "  print(\"Averaged stats:\", metric_logger)\n",
    "  train_stats = {k: meter.global_avg for k, meter in metric_logger.meters.items()}\n",
    "  lr_scheduler.step() \n",
    "  loss_ce_avg_tr += [loss_ce_tr/len(data_loader_train)]\n",
    "  loss_bb_avg_tr += [loss_bb_tr/len(data_loader_train)]\n",
    "  loss_giou_avg_tr += [loss_giou_tr/len(data_loader_train)]\n",
    "  ## Testing Block\n",
    "  with torch.no_grad():\n",
    "    model.eval()  \n",
    "    criterion.eval()\n",
    "    metric_logger = utils.MetricLogger(delimiter=\"  \")\n",
    "    metric_logger.add_meter('class_error', utils.SmoothedValue(window_size=1, fmt='{value:.2f}'))\n",
    "    header_ts = 'Test:'\n",
    "    for samples_ts, targets_ts in metric_logger.log_every(data_loader_val, 40, header_ts):\n",
    "      samples_ts = samples_ts.to(device)\n",
    "      targets_ts = [{k: v.to(device) for k, v in t.items()} for t in targets_ts]\n",
    "      outputs_ts = model(samples_ts)\n",
    "      loss_dict_ts = criterion(outputs_ts, targets_ts)\n",
    "      weight_dict_ts = criterion.weight_dict\n",
    "\n",
    "      # reduce losses over all GPUs for logging purposes\n",
    "      loss_dict_reduced = utils.reduce_dict(loss_dict_ts)\n",
    "      loss_dict_reduced_scaled = {k: v * weight_dict[k]\n",
    "                                  for k, v in loss_dict_reduced.items() if k in weight_dict}\n",
    "      loss_dict_reduced_unscaled = {f'{k}_unscaled': v\n",
    "                                    for k, v in loss_dict_reduced.items()}\n",
    "      metric_logger.update(loss=sum(loss_dict_reduced_scaled.values()),\n",
    "                            **loss_dict_reduced_scaled)\n",
    "      metric_logger.update(class_error=loss_dict_reduced['class_error'])\n",
    "      loss_ce_ts += loss_dict_reduced_scaled['loss_ce'].cpu().detach().numpy()\n",
    "      loss_bb_ts += loss_dict_reduced_scaled['loss_bbox'].cpu().detach().numpy()\n",
    "      loss_giou_ts += loss_dict_reduced_scaled['loss_giou'].cpu().detach().numpy()\n",
    "    loss_ce_avg_ts += [loss_ce_ts/len(data_loader_val)]\n",
    "    loss_bb_avg_ts += [loss_bb_ts/len(data_loader_val)]\n",
    "    loss_giou_avg_ts += [loss_giou_ts/len(data_loader_val)]\n",
    "    ## End of Testing Block\n",
    "    \n",
    "\n",
    "    # loss_ce_avg_tr += old_loss_ce_avg_tr\n",
    "    # loss_bb_avg_tr += old_loss_bb_avg_tr\n",
    "    # loss_giou_avg_tr += old_loss_giou_avg_tr\n",
    "    # loss_ce_avg_ts += old_loss_ce_avg_ts\n",
    "    # loss_bb_avg_ts += old_loss_bb_avg_ts\n",
    "    # loss_giou_avg_ts += old_loss_giou_avg_ts\n",
    "    if (epoch+1)%save_every == 0:\n",
    "        time_tot = time.time()-start\n",
    "        nm = 'DetrMdl'+str(idx)+'.pth'\n",
    "        # torch.save(model.state_dict(),'../Weights/'+nm)\n",
    "        checkpoint = {\n",
    "            'epoch': epoch + 1,\n",
    "            'state_dict': model.state_dict(),\n",
    "            'optimizer': optimizer.state_dict(),\n",
    "            'criterion': criterion.state_dict(),\n",
    "            'lr':lr_scheduler.state_dict()\n",
    "        }\n",
    "        torch.save(checkpoint,'../Weights/'+nm)\n",
    "        writeIt = ['\\n', nm, 'is the full Detr model, with the original settings',\n",
    "                  'batch size is {0}'.format(args.batch_size),\n",
    "                  'number of queries is {0}'.format(args.num_queries),\n",
    "                  'backbone is only initialized with ImageNet', \n",
    "                    'frozen mode is = {0}'.format(fr), \n",
    "                    'augmentation over training data is removed',     \n",
    "                  '{0} epochs excution time {1}.'.format(epochs,time_tot/60),\n",
    "                   'Using the new SegToBB protocols',\n",
    "                   'The classification cost is increased to 2 (was 1 for all the above)',\n",
    "                   'The bounding box cost is increased to 6, (was 5 for all the above)',\n",
    "                   'Training of backbone is on all data, training of detection pipeline is only using PanNuke data']\n",
    "        with open('../Weights/readme.txt', 'a') as f:\n",
    "            f.writelines('\\n'.join(writeIt))\n",
    "        sio.savemat('../Weights/'+nm[:-4]+'.mat',{'loss_ce_avg_ts':loss_ce_avg_ts,\n",
    "                                                                                'loss_bb_avg_ts':loss_bb_avg_ts,\n",
    "                                                                                'loss_giou_avg_ts':loss_giou_avg_ts,\n",
    "                                                                                'loss_ce_avg_tr':loss_ce_avg_tr,\n",
    "                                                                                'loss_bb_avg_tr':loss_bb_avg_tr,\n",
    "                                                                                'loss_giou_avg_tr':loss_giou_avg_tr})\n",
    "        idx+=1"
   ]
  },
  {
   "cell_type": "code",
   "execution_count": null,
   "id": "baacb245-144a-484a-abb6-64164b93d5b3",
   "metadata": {},
   "outputs": [],
   "source": [
    "model = get_pretrained_detr()\n",
    "checkpoint = torch.load('../Weights/DetrMdl35.pth')\n",
    "model.load_state_dict(checkpoint['state_dict'])\n",
    "model.to(device)\n",
    "model.eval()"
   ]
  },
  {
   "cell_type": "code",
   "execution_count": null,
   "id": "0a3ee578-1cd6-4181-b783-0f09ce7af33b",
   "metadata": {},
   "outputs": [],
   "source": [
    "loss_ce_ts,loss_bb_ts,loss_giou_ts,loss_ce_tr,loss_bb_tr,loss_giou_tr = [],[],[],[],[],[]\n",
    "for i in range(10,13):\n",
    "  loaded = sio.loadmat('../Weights/DetrMdl'+str(i)+'.mat')\n",
    "  loss_ce_avg_ts = list(loaded['loss_ce_avg_ts'].flatten())\n",
    "  loss_bb_avg_ts = list(loaded['loss_bb_avg_ts'].flatten())\n",
    "  loss_giou_avg_ts = list(loaded['loss_giou_avg_ts'].flatten())\n",
    "  loss_ce_avg_tr = list(loaded['loss_ce_avg_tr'].flatten())\n",
    "  loss_bb_avg_tr = list(loaded['loss_bb_avg_tr'].flatten())\n",
    "  loss_giou_avg_tr = list(loaded['loss_giou_avg_tr'].flatten())\n",
    "  loss_ce_ts += loss_ce_avg_ts\n",
    "  loss_bb_ts += loss_bb_avg_ts\n",
    "  loss_giou_ts += loss_giou_avg_ts\n",
    "  loss_ce_tr += loss_ce_avg_tr\n",
    "  loss_bb_tr += loss_bb_avg_tr\n",
    "  loss_giou_tr += loss_giou_avg_tr"
   ]
  },
  {
   "cell_type": "code",
   "execution_count": 13,
   "id": "b25de91d-88ca-4dba-b9cc-e4862f3bf7b9",
   "metadata": {},
   "outputs": [
    {
     "ename": "NameError",
     "evalue": "name 'loss_ce_avg_tr' is not defined",
     "output_type": "error",
     "traceback": [
      "\u001b[0;31m---------------------------------------------------------------------------\u001b[0m",
      "\u001b[0;31mNameError\u001b[0m                                 Traceback (most recent call last)",
      "\u001b[0;32m/tmp/ipykernel_4695/763153081.py\u001b[0m in \u001b[0;36m<module>\u001b[0;34m\u001b[0m\n\u001b[1;32m      1\u001b[0m \u001b[0mplt\u001b[0m\u001b[0;34m.\u001b[0m\u001b[0mfigure\u001b[0m\u001b[0;34m(\u001b[0m\u001b[0;34m)\u001b[0m\u001b[0;34m\u001b[0m\u001b[0;34m\u001b[0m\u001b[0m\n\u001b[0;32m----> 2\u001b[0;31m \u001b[0mplt\u001b[0m\u001b[0;34m.\u001b[0m\u001b[0mplot\u001b[0m\u001b[0;34m(\u001b[0m\u001b[0mloss_ce_avg_tr\u001b[0m\u001b[0;34m)\u001b[0m\u001b[0;34m\u001b[0m\u001b[0;34m\u001b[0m\u001b[0m\n\u001b[0m\u001b[1;32m      3\u001b[0m \u001b[0mplt\u001b[0m\u001b[0;34m.\u001b[0m\u001b[0mplot\u001b[0m\u001b[0;34m(\u001b[0m\u001b[0mloss_ce_avg_ts\u001b[0m\u001b[0;34m)\u001b[0m\u001b[0;34m\u001b[0m\u001b[0;34m\u001b[0m\u001b[0m\n\u001b[1;32m      4\u001b[0m \u001b[0mplt\u001b[0m\u001b[0;34m.\u001b[0m\u001b[0mlegend\u001b[0m\u001b[0;34m(\u001b[0m\u001b[0;34m[\u001b[0m\u001b[0;34m\"class error tr\"\u001b[0m\u001b[0;34m,\u001b[0m \u001b[0;34m\"class error ts\"\u001b[0m\u001b[0;34m]\u001b[0m\u001b[0;34m)\u001b[0m\u001b[0;34m\u001b[0m\u001b[0;34m\u001b[0m\u001b[0m\n\u001b[1;32m      5\u001b[0m \u001b[0mplt\u001b[0m\u001b[0;34m.\u001b[0m\u001b[0mfigure\u001b[0m\u001b[0;34m(\u001b[0m\u001b[0;34m)\u001b[0m\u001b[0;34m\u001b[0m\u001b[0;34m\u001b[0m\u001b[0m\n",
      "\u001b[0;31mNameError\u001b[0m: name 'loss_ce_avg_tr' is not defined"
     ]
    },
    {
     "data": {
      "text/plain": [
       "<Figure size 432x288 with 0 Axes>"
      ]
     },
     "metadata": {},
     "output_type": "display_data"
    }
   ],
   "source": [
    "plt.figure()\n",
    "plt.plot(loss_ce_avg_tr)\n",
    "plt.plot(loss_ce_avg_ts)\n",
    "plt.legend([\"class error tr\", \"class error ts\"])\n",
    "plt.figure()\n",
    "plt.plot(loss_bb_avg_tr)\n",
    "plt.plot(loss_bb_avg_ts)\n",
    "plt.legend([\"bb error tr\", \"bb error ts\"])\n",
    "plt.figure()\n",
    "plt.plot(loss_giou_avg_tr)\n",
    "plt.plot(loss_giou_avg_ts)\n",
    "plt.legend([\"giou error tr\", \"giou error ts\"])"
   ]
  },
  {
   "cell_type": "code",
   "execution_count": null,
   "id": "b4c58468-da2a-43b8-ab19-da92d3d14391",
   "metadata": {},
   "outputs": [],
   "source": [
    "model"
   ]
  },
  {
   "cell_type": "markdown",
   "id": "8c9bcd48-8519-411d-a04e-8af425e00033",
   "metadata": {
    "tags": []
   },
   "source": [
    "## To get the images names "
   ]
  },
  {
   "cell_type": "code",
   "execution_count": null,
   "id": "e42ade86-8202-40bc-b8bf-23ee6812def3",
   "metadata": {},
   "outputs": [],
   "source": [
    "data_loader_val.dataset.coco.imgs"
   ]
  },
  {
   "cell_type": "code",
   "execution_count": 40,
   "id": "0946cdc2-81e3-4521-bffb-4cab7553fce2",
   "metadata": {},
   "outputs": [
    {
     "name": "stdout",
     "output_type": "stream",
     "text": [
      "description: Consep Detection Dataset\n",
      "url: www.ku.ac.ae\n",
      "version: 1.0\n",
      "year: 2021\n",
      "contributor: Ahmad Obeid, member of Dr. Naoufel's research group at KU\n",
      "date_created: 2021\n"
     ]
    }
   ],
   "source": [
    "data_loader_val.dataset.coco.info()"
   ]
  },
  {
   "cell_type": "code",
   "execution_count": null,
   "id": "77c71ace-287b-4b54-87a3-a8df29d8bf4d",
   "metadata": {},
   "outputs": [],
   "source": [
    "wi = 0\n",
    "with torch.no_grad():\n",
    "    model.eval()  \n",
    "    criterion.eval()\n",
    "    \n",
    "    for samples_ts, targets_ts in data_loader_train:           \n",
    "      samples_ts = samples_ts.to(device)\n",
    "      targets_ts = [{k: v.to(device) for k, v in t.items()} for t in targets_ts]\n",
    "      outputs_ts = model(samples_ts)\n",
    "      for idx, (output_cls, output_bb)  in enumerate(zip(outputs_ts['pred_logits'],outputs_ts['pred_boxes'])):\n",
    "        xx = samples_ts.tensors[idx].permute(1,2,0).cpu().detach().numpy()        \n",
    "        drw, im2 = get_drw_from_tnsr(xx)\n",
    "        wanted_idx = numpy.where(output_cls.argmax(-1).cpu().detach().numpy()==0)[0]\n",
    "        wanted_bb = output_bb[wanted_idx]\n",
    "        drw = draw_bb(wanted_bb,drw,im2)       \n",
    "        pdb.set_trace()"
   ]
  },
  {
   "cell_type": "code",
   "execution_count": null,
   "id": "d0e5af69-7d3a-4f1b-aec8-ccf7be714040",
   "metadata": {},
   "outputs": [],
   "source": [
    "im2"
   ]
  },
  {
   "cell_type": "markdown",
   "id": "fc5deea9-9e4d-458e-b759-0bfef5f1dbdb",
   "metadata": {},
   "source": [
    "## Testing on individual datasets"
   ]
  },
  {
   "cell_type": "code",
   "execution_count": null,
   "id": "6335da69-751a-4e81-af19-63f322bb75aa",
   "metadata": {},
   "outputs": [],
   "source": [
    "data_loader_train.dataset.coco.imgs"
   ]
  },
  {
   "cell_type": "code",
   "execution_count": 26,
   "id": "44dfafed-2291-498e-9175-2eb53fef2335",
   "metadata": {},
   "outputs": [
    {
     "name": "stderr",
     "output_type": "stream",
     "text": [
      "/home/nofelvsap/anaconda3/envs/nucdetr/lib/python3.10/site-packages/torchvision/models/_utils.py:208: UserWarning: The parameter 'pretrained' is deprecated since 0.13 and will be removed in 0.15, please use 'weights' instead.\n",
      "  warnings.warn(\n",
      "/home/nofelvsap/anaconda3/envs/nucdetr/lib/python3.10/site-packages/torchvision/models/_utils.py:223: UserWarning: Arguments other than a weight enum or `None` for 'weights' are deprecated since 0.13 and will be removed in 0.15. The current behavior is equivalent to passing `weights=ResNet101_Weights.IMAGENET1K_V1`. You can also use `weights=ResNet101_Weights.DEFAULT` to get the most up-to-date weights.\n",
      "  warnings.warn(msg)\n"
     ]
    },
    {
     "name": "stdout",
     "output_type": "stream",
     "text": [
      "loading annotations into memory...\n",
      "Done (t=0.20s)\n",
      "creating index...\n",
      "index created!\n",
      "loading annotations into memory...\n",
      "Done (t=0.07s)\n",
      "creating index...\n",
      "index created!\n"
     ]
    }
   ],
   "source": [
    "DetectionFile = 'consep/ForDetection'\n",
    "_, _, args = base_prepare(model,from_cell=True,device=device,DetectionFile=DetectionFile)\n",
    "dataset_train = build_dataset(image_set='train', args=args)\n",
    "dataset_val = build_dataset(image_set='val', args=args)\n",
    "sampler_train = torch.utils.data.RandomSampler(dataset_train)\n",
    "sampler_val = torch.utils.data.SequentialSampler(dataset_val)\n",
    "batch_sampler_train = torch.utils.data.BatchSampler(\n",
    "sampler_train, args.batch_size, drop_last=True)\n",
    "\n",
    "# individual_loader_train = DataLoader(dataset_train, batch_sampler=batch_sampler_train,\n",
    "                                  # collate_fn=utils.collate_fn, num_workers=args.num_workers)\n",
    "individual_loader_val = DataLoader(dataset_val, args.batch_size, sampler=sampler_val,\n",
    "                                drop_last=False, collate_fn=utils.collate_fn, num_workers=args.num_workers)"
   ]
  },
  {
   "cell_type": "code",
   "execution_count": null,
   "id": "0e47b677-e207-44cd-82c2-f4743e323d24",
   "metadata": {},
   "outputs": [],
   "source": [
    "# quantitative detection evaluation\n",
    "from sklearn.metrics.pairwise import euclidean_distances as dist\n",
    "from sklearn.cluster import AgglomerativeClustering as clst\n",
    "thre = [1]\n",
    "for th in thre:\n",
    "  lengths = []\n",
    "  with torch.no_grad():\n",
    "      model.eval()  \n",
    "      criterion.eval()\n",
    "      wanted_bb = []\n",
    "      TP, TN, FP, FN, P, N = [], [], [], [], [], []\n",
    "      for idx1, (samples_ts, targets_ts) in enumerate(data_loader_val):\n",
    "        samples_ts = samples_ts.to(device)\n",
    "        targets_ts = [{k: v.to(device) for k, v in t.items()} for t in targets_ts]\n",
    "        outputs_ts = model(samples_ts)\n",
    "        \n",
    "        for idx, (output_cls, output_bb)  in enumerate(zip(outputs_ts['pred_logits'],outputs_ts['pred_boxes'])):\n",
    "          # print('GT has {} bbs'.format(len(targets_ts[idx]['boxes'])))\n",
    "          GT_bb = targets_ts[idx]['boxes']\n",
    "          xx = samples_ts.tensors[idx].permute(1,2,0).cpu().detach().numpy()\n",
    "          \n",
    "          wanted_idx = numpy.where(output_cls.argmax(-1).cpu().detach().numpy()==0)[0]\n",
    "          wanted_bb = output_bb[wanted_idx]   \n",
    "          if len(wanted_bb) == 0:\n",
    "            continue\n",
    "          elif len(wanted_bb) == 1:\n",
    "            reduced_bb = wanted_bb.cpu() * torch.Tensor([800, 800,800, 800])\n",
    "          else:\n",
    "            reduced_bb = reduce_bb(wanted_bb,th=th)\n",
    "          \n",
    "#           drw, im2 = get_drw_from_tnsr(xx,black_bg=True)\n",
    "#           drw = draw_bb(GT_bb,drw,im2,choice='point',raw=False,outline='blue',dot_size=18)\n",
    "#           drw = draw_bb(reduced_bb,drw,im2,choice='point',raw=True,outline='red',dot_size=8)\n",
    "#           # drw = draw_bb(GT_bb,drw,im2,choice='rect',raw=False,outline='blue')\n",
    "\n",
    "# #           pdb.set_trace()\n",
    "\n",
    "          stats = get_stats2(reduced_bb,GT_bb,r=80)\n",
    "          TP += [stats[0]]\n",
    "          TN += [stats[1]]\n",
    "          FP += [stats[2]]\n",
    "          FN += [stats[3]]\n",
    "          P += [stats[4]]\n",
    "          N += [stats[5]]\n",
    "          # pdb.set_trace()\n",
    "          \n",
    "        \n",
    "  TP_all,TN_all,FP_all,FN_all,P_all,N_all = sum(TP),sum(TN),sum(FP),sum(FN),sum(P),sum(N)   \n",
    "  prec, recall = TP_all/(TP_all+FP_all), TP_all/(TP_all+FN_all)\n",
    "  F = 2*prec*recall/(prec+recall)\n",
    "  print('Preceision is: {}.'.format(prec))\n",
    "  print('Recall is: {}.'.format(recall))\n",
    "  print('F-score is: {}.'.format(F))"
   ]
  },
  {
   "cell_type": "code",
   "execution_count": 52,
   "id": "ce5ee77a-6f83-4dfa-87e9-7c9be3d1190a",
   "metadata": {},
   "outputs": [
    {
     "data": {
      "text/plain": [
       "torch.Size([8, 3, 800, 800])"
      ]
     },
     "execution_count": 52,
     "metadata": {},
     "output_type": "execute_result"
    }
   ],
   "source": [
    "samples_ts.tensors.shape"
   ]
  },
  {
   "cell_type": "code",
   "execution_count": 45,
   "id": "14740d0d-af85-47b8-bc33-304a779e1d24",
   "metadata": {},
   "outputs": [
    {
     "data": {
      "image/png": "[encoded data removed]",
      "text/plain": [
       "<PIL.Image.Image image mode=RGB size=800x800>"
      ]
     },
     "execution_count": 49,
     "metadata": {},
     "output_type": "execute_result"
    }
   ],
   "source": [
    "im2"
   ]
  }
 ],
 "metadata": {
  "kernelspec": {
   "display_name": "Python 3 (ipykernel)",
   "language": "python",
   "name": "python3"
  },
  "language_info": {
   "codemirror_mode": {
    "name": "ipython",
    "version": 3
   },
   "file_extension": ".py",
   "mimetype": "text/x-python",
   "name": "python",
   "nbconvert_exporter": "python",
   "pygments_lexer": "ipython3",
   "version": "3.10.4"
  }
 },
 "nbformat": 4,
 "nbformat_minor": 5
}
